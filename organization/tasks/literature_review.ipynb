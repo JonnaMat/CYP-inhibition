{
 "cells": [
  {
   "cell_type": "markdown",
   "metadata": {},
   "source": [
    "* unfinished task\n",
    "\n",
    "* ~~finished task~~ "
   ]
  },
  {
   "cell_type": "markdown",
   "metadata": {},
   "source": [
    "# KeyPublications\n",
    "\n",
    "* DrugMetabolism_Review [Jonna]\n",
    "* CHEMBL_MoleculeStandardization [Jonna]\n",
    "* PrinciplesOfDrugDiscovery [Jonna]\n",
    "* Molecular Descriptor - an overview [James]\n",
    "* Molecular Descriptor_ECFP4Fingerprints [James]\n",
    "* glossary_med_chem [James]"
   ]
  },
  {
   "cell_type": "markdown",
   "metadata": {},
   "source": [
    "# DeepLearning_Chemistry\n",
    "\n",
    "* chemprop_gcnn \n",
    "* KekuleScope\n",
    "* Chemception\n",
    "* ToxicColors\n",
    "* AugChemception\n",
    "* ChemNet"
   ]
  },
  {
   "cell_type": "markdown",
   "metadata": {},
   "source": []
  }
 ],
 "metadata": {
  "kernelspec": {
   "display_name": "Python 3.10.4 64-bit",
   "language": "python",
   "name": "python3"
  },
  "language_info": {
   "name": "python",
   "version": "3.10.4"
  },
  "orig_nbformat": 4,
  "vscode": {
   "interpreter": {
    "hash": "916dbcbb3f70747c44a77c7bcd40155683ae19c65e1c03b4aa3499c5328201f1"
   }
  }
 },
 "nbformat": 4,
 "nbformat_minor": 2
}
