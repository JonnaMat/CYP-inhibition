{
 "cells": [
  {
   "cell_type": "code",
   "execution_count": 1,
   "metadata": {},
   "outputs": [
    {
     "name": "stderr",
     "output_type": "stream",
     "text": [
      "Found local copy...\n",
      "Loading...\n",
      "Done!\n",
      "--- Dataset Statistics ---\n",
      "12665 unique drugs.\n",
      "--------------------------\n"
     ]
    },
    {
     "name": "stdout",
     "output_type": "stream",
     "text": [
      "----- Starting with CYP2C19 -----\n",
      "Fetching Dataset from TDC...\n",
      "Normalizing smiles strings...\n"
     ]
    },
    {
     "name": "stderr",
     "output_type": "stream",
     "text": [
      "[16:15:42] Can't kekulize mol.  Unkekulized atoms: 0 2 3 4 7\n",
      "[16:15:43] Can't kekulize mol.  Unkekulized atoms: 0 3 6\n",
      "[16:15:46] Can't kekulize mol.  Unkekulized atoms: 0 3 5 6 8 9 12\n",
      "[16:15:55] Can't kekulize mol.  Unkekulized atoms: 0 2 3 4 7\n",
      "[16:15:56] Can't kekulize mol.  Unkekulized atoms: 0 2 3 4 5\n",
      "[16:15:56] Can't kekulize mol.  Unkekulized atoms: 3 5 26 27 28 29\n"
     ]
    },
    {
     "name": "stdout",
     "output_type": "stream",
     "text": [
      "Removing Small molecules...\n",
      "5501    N#CCCN\n",
      "5715        NO\n",
      "5755     [Li+]\n",
      "5799      NCCS\n",
      "5846    [Pt+2]\n",
      "5856    NCCCCN\n",
      "Calculating descriptors...\n",
      "Save dataset to data/cyp2c19/raw_dataset_descriptors.csv.\n"
     ]
    },
    {
     "name": "stderr",
     "output_type": "stream",
     "text": [
      "Found local copy...\n",
      "Loading...\n",
      "Done!\n",
      "--- Dataset Statistics ---\n",
      "13130 unique drugs.\n",
      "--------------------------\n"
     ]
    },
    {
     "name": "stdout",
     "output_type": "stream",
     "text": [
      "----- Starting with CYP2D6 -----\n",
      "Fetching Dataset from TDC...\n",
      "Normalizing smiles strings...\n"
     ]
    },
    {
     "ename": "KeyboardInterrupt",
     "evalue": "",
     "output_type": "error",
     "traceback": [
      "\u001b[0;31m---------------------------------------------------------------------------\u001b[0m",
      "\u001b[0;31mKeyboardInterrupt\u001b[0m                         Traceback (most recent call last)",
      "Cell \u001b[0;32mIn [1], line 8\u001b[0m\n\u001b[1;32m      6\u001b[0m \u001b[38;5;28;01mfor\u001b[39;00m task \u001b[38;5;129;01min\u001b[39;00m tasks:\n\u001b[1;32m      7\u001b[0m     \u001b[38;5;28mprint\u001b[39m(\u001b[38;5;124mf\u001b[39m\u001b[38;5;124m\"\u001b[39m\u001b[38;5;124m----- Starting with \u001b[39m\u001b[38;5;132;01m{\u001b[39;00mtask\u001b[38;5;132;01m}\u001b[39;00m\u001b[38;5;124m -----\u001b[39m\u001b[38;5;124m\"\u001b[39m)\n\u001b[0;32m----> 8\u001b[0m     datasets[task] \u001b[38;5;241m=\u001b[39m \u001b[43mdata_preprocessing\u001b[49m\u001b[43m(\u001b[49m\u001b[43mtask\u001b[49m\u001b[43m)\u001b[49m\n",
      "File \u001b[0;32m~/CYP-inhibition/src/data_preparation/basics.py:104\u001b[0m, in \u001b[0;36mdata_preprocessing\u001b[0;34m(task)\u001b[0m\n\u001b[1;32m    101\u001b[0m tdc_data \u001b[39m=\u001b[39m load_tdc_dataset_split(task, frac\u001b[39m=\u001b[39m[\u001b[39m1\u001b[39m, \u001b[39m0\u001b[39m, \u001b[39m0\u001b[39m])[\u001b[39m\"\u001b[39m\u001b[39mtrain\u001b[39m\u001b[39m\"\u001b[39m]\n\u001b[1;32m    103\u001b[0m \u001b[39mprint\u001b[39m(\u001b[39m\"\u001b[39m\u001b[39mNormalizing smiles strings...\u001b[39m\u001b[39m\"\u001b[39m)\n\u001b[0;32m--> 104\u001b[0m tdc_data[\u001b[39m\"\u001b[39m\u001b[39mDrug\u001b[39m\u001b[39m\"\u001b[39m] \u001b[39m=\u001b[39m tdc_data[\u001b[39m\"\u001b[39m\u001b[39mDrug\u001b[39m\u001b[39m\"\u001b[39m]\u001b[39m.\u001b[39mmap(normalize_smiles)\n\u001b[1;32m    106\u001b[0m \u001b[39mprint\u001b[39m(\u001b[39m\"\u001b[39m\u001b[39mRemoving Small molecules...\u001b[39m\u001b[39m\"\u001b[39m)\n\u001b[1;32m    107\u001b[0m \u001b[39mprint\u001b[39m(tdc_data[\u001b[39m\"\u001b[39m\u001b[39mDrug\u001b[39m\u001b[39m\"\u001b[39m][\u001b[39mlambda\u001b[39;00m drugs: [\u001b[39mlen\u001b[39m(drug) \u001b[39m<\u001b[39m\u001b[39m=\u001b[39m \u001b[39m9\u001b[39m \u001b[39mfor\u001b[39;00m drug \u001b[39min\u001b[39;00m drugs]]\u001b[39m.\u001b[39mto_string())\n",
      "File \u001b[0;32m~/astrazeneca/lib/python3.10/site-packages/pandas/core/series.py:4237\u001b[0m, in \u001b[0;36mSeries.map\u001b[0;34m(self, arg, na_action)\u001b[0m\n\u001b[1;32m   4162\u001b[0m \u001b[39mdef\u001b[39;00m \u001b[39mmap\u001b[39m(\u001b[39mself\u001b[39m, arg, na_action\u001b[39m=\u001b[39m\u001b[39mNone\u001b[39;00m) \u001b[39m-\u001b[39m\u001b[39m>\u001b[39m Series:\n\u001b[1;32m   4163\u001b[0m     \u001b[39m\"\"\"\u001b[39;00m\n\u001b[1;32m   4164\u001b[0m \u001b[39m    Map values of Series according to an input mapping or function.\u001b[39;00m\n\u001b[1;32m   4165\u001b[0m \n\u001b[0;32m   (...)\u001b[0m\n\u001b[1;32m   4235\u001b[0m \u001b[39m    dtype: object\u001b[39;00m\n\u001b[1;32m   4236\u001b[0m \u001b[39m    \"\"\"\u001b[39;00m\n\u001b[0;32m-> 4237\u001b[0m     new_values \u001b[39m=\u001b[39m \u001b[39mself\u001b[39;49m\u001b[39m.\u001b[39;49m_map_values(arg, na_action\u001b[39m=\u001b[39;49mna_action)\n\u001b[1;32m   4238\u001b[0m     \u001b[39mreturn\u001b[39;00m \u001b[39mself\u001b[39m\u001b[39m.\u001b[39m_constructor(new_values, index\u001b[39m=\u001b[39m\u001b[39mself\u001b[39m\u001b[39m.\u001b[39mindex)\u001b[39m.\u001b[39m__finalize__(\n\u001b[1;32m   4239\u001b[0m         \u001b[39mself\u001b[39m, method\u001b[39m=\u001b[39m\u001b[39m\"\u001b[39m\u001b[39mmap\u001b[39m\u001b[39m\"\u001b[39m\n\u001b[1;32m   4240\u001b[0m     )\n",
      "File \u001b[0;32m~/astrazeneca/lib/python3.10/site-packages/pandas/core/base.py:880\u001b[0m, in \u001b[0;36mIndexOpsMixin._map_values\u001b[0;34m(self, mapper, na_action)\u001b[0m\n\u001b[1;32m    877\u001b[0m         \u001b[39mraise\u001b[39;00m \u001b[39mValueError\u001b[39;00m(msg)\n\u001b[1;32m    879\u001b[0m \u001b[39m# mapper is a function\u001b[39;00m\n\u001b[0;32m--> 880\u001b[0m new_values \u001b[39m=\u001b[39m map_f(values, mapper)\n\u001b[1;32m    882\u001b[0m \u001b[39mreturn\u001b[39;00m new_values\n",
      "File \u001b[0;32m~/astrazeneca/lib/python3.10/site-packages/pandas/_libs/lib.pyx:2870\u001b[0m, in \u001b[0;36mpandas._libs.lib.map_infer\u001b[0;34m()\u001b[0m\n",
      "File \u001b[0;32m~/CYP-inhibition/src/data_preparation/basics.py:70\u001b[0m, in \u001b[0;36mnormalize_smiles\u001b[0;34m(smiles)\u001b[0m\n\u001b[1;32m     66\u001b[0m \u001b[39m\"\"\"Return normalized smiled string given `smiles`.\"\"\"\u001b[39;00m\n\u001b[1;32m     67\u001b[0m molecule \u001b[39m=\u001b[39m MolFromSmiles(smiles)\n\u001b[1;32m     68\u001b[0m normalized_molecule \u001b[39m=\u001b[39m MOL_FRAGMENT_REMOVER\u001b[39m.\u001b[39mremove(\n\u001b[1;32m     69\u001b[0m     MOL_STANDARDIZER\u001b[39m.\u001b[39mstandardize(molecule)\n\u001b[0;32m---> 70\u001b[0m )\n\u001b[1;32m     71\u001b[0m \u001b[39mreturn\u001b[39;00m MolToSmiles(normalized_molecule)\n",
      "File \u001b[0;32m~/astrazeneca/lib/python3.10/site-packages/molvs/standardize.py:94\u001b[0m, in \u001b[0;36mStandardizer.standardize\u001b[0;34m(self, mol)\u001b[0m\n\u001b[1;32m     80\u001b[0m \u001b[39mdef\u001b[39;00m \u001b[39mstandardize\u001b[39m(\u001b[39mself\u001b[39m, mol):\n\u001b[1;32m     81\u001b[0m     \u001b[39m\"\"\"Return a standardized version the given molecule.\u001b[39;00m\n\u001b[1;32m     82\u001b[0m \n\u001b[1;32m     83\u001b[0m \u001b[39m    The standardization process consists of the following stages: RDKit\u001b[39;00m\n\u001b[0;32m   (...)\u001b[0m\n\u001b[1;32m     92\u001b[0m \u001b[39m    :rtype: :rdkit:`Mol <Chem.rdchem.Mol-class.html>`\u001b[39;00m\n\u001b[1;32m     93\u001b[0m \u001b[39m    \"\"\"\u001b[39;00m\n\u001b[0;32m---> 94\u001b[0m     mol \u001b[39m=\u001b[39m copy\u001b[39m.\u001b[39;49mdeepcopy(mol)\n\u001b[1;32m     95\u001b[0m     Chem\u001b[39m.\u001b[39mSanitizeMol(mol)\n\u001b[1;32m     96\u001b[0m     mol \u001b[39m=\u001b[39m Chem\u001b[39m.\u001b[39mRemoveHs(mol)\n",
      "File \u001b[0;32m/usr/lib/python3.10/copy.py:153\u001b[0m, in \u001b[0;36mdeepcopy\u001b[0;34m(x, memo, _nil)\u001b[0m\n\u001b[1;32m    151\u001b[0m copier \u001b[39m=\u001b[39m \u001b[39mgetattr\u001b[39m(x, \u001b[39m\"\u001b[39m\u001b[39m__deepcopy__\u001b[39m\u001b[39m\"\u001b[39m, \u001b[39mNone\u001b[39;00m)\n\u001b[1;32m    152\u001b[0m \u001b[39mif\u001b[39;00m copier \u001b[39mis\u001b[39;00m \u001b[39mnot\u001b[39;00m \u001b[39mNone\u001b[39;00m:\n\u001b[0;32m--> 153\u001b[0m     y \u001b[39m=\u001b[39m copier(memo)\n\u001b[1;32m    154\u001b[0m \u001b[39melse\u001b[39;00m:\n\u001b[1;32m    155\u001b[0m     reductor \u001b[39m=\u001b[39m dispatch_table\u001b[39m.\u001b[39mget(\u001b[39mcls\u001b[39m)\n",
      "File \u001b[0;32m/usr/lib/python3.10/copy.py:128\u001b[0m, in \u001b[0;36mdeepcopy\u001b[0;34m(x, memo, _nil)\u001b[0m\n\u001b[1;32m    124\u001b[0m     d[PyStringMap] \u001b[39m=\u001b[39m PyStringMap\u001b[39m.\u001b[39mcopy\n\u001b[1;32m    126\u001b[0m \u001b[39mdel\u001b[39;00m d, t\n\u001b[0;32m--> 128\u001b[0m \u001b[39mdef\u001b[39;00m \u001b[39mdeepcopy\u001b[39m(x, memo\u001b[39m=\u001b[39m\u001b[39mNone\u001b[39;00m, _nil\u001b[39m=\u001b[39m[]):\n\u001b[1;32m    129\u001b[0m     \u001b[39m\"\"\"Deep copy operation on arbitrary Python objects.\u001b[39;00m\n\u001b[1;32m    130\u001b[0m \n\u001b[1;32m    131\u001b[0m \u001b[39m    See the module's __doc__ string for more info.\u001b[39;00m\n\u001b[1;32m    132\u001b[0m \u001b[39m    \"\"\"\u001b[39;00m\n\u001b[1;32m    134\u001b[0m     \u001b[39mif\u001b[39;00m memo \u001b[39mis\u001b[39;00m \u001b[39mNone\u001b[39;00m:\n",
      "\u001b[0;31mKeyboardInterrupt\u001b[0m: "
     ]
    }
   ],
   "source": [
    "from data_preparation.basics import *\n",
    "\n",
    "# WARNING: Running this cell the first time takes a while.\n",
    "tasks = [\"CYP2C19\", \"CYP2D6\", \"CYP3A4\", \"CYP1A2\", \"CYP2C9\"]\n",
    "datasets = dict()\n",
    "for task in tasks:\n",
    "    print(f\"----- Starting with {task} -----\")\n",
    "    datasets[task] = data_preprocessing(task)"
   ]
  },
  {
   "cell_type": "code",
   "execution_count": 3,
   "metadata": {},
   "outputs": [
    {
     "data": {
      "text/plain": [
       "3765     OCCCSCCO\n",
       "5489      CC(N)=O\n",
       "5501       N#CCCN\n",
       "5507    NOCC(=O)O\n",
       "5546    CC(=O)NBr\n",
       "5665    CCSC(=N)N\n",
       "5711     NC(=O)NO\n",
       "5715           NO\n",
       "5784     CSC(=N)N\n",
       "5798         NCCS\n",
       "5854       NCCCCN\n",
       "5898     NNC(N)=O\n",
       "6764    NCCC(=O)O\n",
       "6765    NCCS(=O)O\n",
       "6770     NCC(=O)O\n",
       "6992    Nc1ccncc1\n",
       "Name: Drug, dtype: object"
      ]
     },
     "execution_count": 3,
     "metadata": {},
     "output_type": "execute_result"
    }
   ],
   "source": [
    "datasets[tasks[0]][\"Drug\"][lambda drugs: [len(drug) <= 9 for drug in drugs]]"
   ]
  }
 ],
 "metadata": {
  "kernelspec": {
   "display_name": "Python 3.10.4 ('astrazeneca')",
   "language": "python",
   "name": "python3"
  },
  "language_info": {
   "codemirror_mode": {
    "name": "ipython",
    "version": 3
   },
   "file_extension": ".py",
   "mimetype": "text/x-python",
   "name": "python",
   "nbconvert_exporter": "python",
   "pygments_lexer": "ipython3",
   "version": "3.10.6"
  },
  "orig_nbformat": 4,
  "vscode": {
   "interpreter": {
    "hash": "edc3225ee2ce0e02b9c5eb90a1bbc23c3d648c7d148b1d7ba33570195183ff0d"
   }
  }
 },
 "nbformat": 4,
 "nbformat_minor": 2
}
